{
 "cells": [
  {
   "cell_type": "code",
   "execution_count": null,
   "id": "cc372d34",
   "metadata": {},
   "outputs": [],
   "source": [
    "ddd"
   ]
  }
 ],
 "metadata": {
  "language_info": {
   "name": "python"
  }
 },
 "nbformat": 4,
 "nbformat_minor": 5
}
